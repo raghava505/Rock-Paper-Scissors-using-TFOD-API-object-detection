{
 "cells": [
  {
   "cell_type": "markdown",
   "metadata": {},
   "source": [
    "# 1. Import Dependencies"
   ]
  },
  {
   "cell_type": "code",
   "execution_count": null,
   "metadata": {},
   "outputs": [],
   "source": [
    "!pip install opencv-python"
   ]
  },
  {
   "cell_type": "code",
   "execution_count": 1,
   "metadata": {},
   "outputs": [],
   "source": [
    "# Import opencv\n",
    "import cv2 \n",
    "\n",
    "# Import uuid\n",
    "import uuid\n",
    "\n",
    "# Import Operating System\n",
    "import os\n",
    "\n",
    "# Import time\n",
    "import time"
   ]
  },
  {
   "cell_type": "markdown",
   "metadata": {},
   "source": [
    "# 2. Define Images to Collect"
   ]
  },
  {
   "cell_type": "code",
   "execution_count": 2,
   "metadata": {},
   "outputs": [],
   "source": [
    "labels = ['scissors', 'rock', 'paper',]\n",
    "number_imgs = 30"
   ]
  },
  {
   "cell_type": "markdown",
   "metadata": {},
   "source": [
    "# 3. Setup Folders "
   ]
  },
  {
   "cell_type": "code",
   "execution_count": 3,
   "metadata": {},
   "outputs": [],
   "source": [
    "IMAGES_PATH = os.path.join('Tensorflow', 'workspace', 'images', 'collectedimages')"
   ]
  },
  {
   "cell_type": "code",
   "execution_count": 4,
   "metadata": {},
   "outputs": [],
   "source": [
    "if not os.path.exists(IMAGES_PATH):\n",
    "    if os.name == 'posix':\n",
    "        !mkdir -p {IMAGES_PATH}\n",
    "    if os.name == 'nt':\n",
    "         !mkdir {IMAGES_PATH}\n",
    "for label in labels:\n",
    "    path = os.path.join(IMAGES_PATH, label)\n",
    "    if not os.path.exists(path):\n",
    "        !mkdir {path}"
   ]
  },
  {
   "cell_type": "markdown",
   "metadata": {},
   "source": [
    "# 4. Capture Images"
   ]
  },
  {
   "cell_type": "code",
   "execution_count": 5,
   "metadata": {},
   "outputs": [
    {
     "name": "stdout",
     "output_type": "stream",
     "text": [
      "Collecting images for scissors\n",
      "Collecting image 0\n",
      "Collecting image 1\n",
      "Collecting image 2\n",
      "Collecting image 3\n",
      "Collecting image 4\n",
      "Collecting image 5\n",
      "Collecting image 6\n",
      "Collecting image 7\n",
      "Collecting image 8\n",
      "Collecting image 9\n",
      "Collecting image 10\n",
      "Collecting image 11\n",
      "Collecting image 12\n",
      "Collecting image 13\n",
      "Collecting image 14\n",
      "Collecting image 15\n",
      "Collecting image 16\n",
      "Collecting image 17\n",
      "Collecting image 18\n",
      "Collecting image 19\n",
      "Collecting image 20\n",
      "Collecting image 21\n",
      "Collecting image 22\n",
      "Collecting image 23\n",
      "Collecting image 24\n",
      "Collecting image 25\n",
      "Collecting image 26\n",
      "Collecting image 27\n",
      "Collecting image 28\n",
      "Collecting image 29\n",
      "Collecting images for rock\n",
      "Collecting image 0\n",
      "Collecting image 1\n",
      "Collecting image 2\n",
      "Collecting image 3\n",
      "Collecting image 4\n",
      "Collecting image 5\n",
      "Collecting image 6\n",
      "Collecting image 7\n",
      "Collecting image 8\n",
      "Collecting image 9\n",
      "Collecting image 10\n",
      "Collecting image 11\n",
      "Collecting image 12\n",
      "Collecting image 13\n",
      "Collecting image 14\n",
      "Collecting image 15\n",
      "Collecting image 16\n",
      "Collecting image 17\n",
      "Collecting image 18\n",
      "Collecting image 19\n",
      "Collecting image 20\n",
      "Collecting image 21\n",
      "Collecting image 22\n",
      "Collecting image 23\n",
      "Collecting image 24\n",
      "Collecting image 25\n",
      "Collecting image 26\n",
      "Collecting image 27\n",
      "Collecting image 28\n",
      "Collecting image 29\n",
      "Collecting images for paper\n",
      "Collecting image 0\n",
      "Collecting image 1\n",
      "Collecting image 2\n",
      "Collecting image 3\n",
      "Collecting image 4\n",
      "Collecting image 5\n",
      "Collecting image 6\n",
      "Collecting image 7\n",
      "Collecting image 8\n",
      "Collecting image 9\n",
      "Collecting image 10\n",
      "Collecting image 11\n",
      "Collecting image 12\n",
      "Collecting image 13\n",
      "Collecting image 14\n",
      "Collecting image 15\n",
      "Collecting image 16\n",
      "Collecting image 17\n",
      "Collecting image 18\n",
      "Collecting image 19\n",
      "Collecting image 20\n",
      "Collecting image 21\n",
      "Collecting image 22\n",
      "Collecting image 23\n",
      "Collecting image 24\n",
      "Collecting image 25\n",
      "Collecting image 26\n",
      "Collecting image 27\n",
      "Collecting image 28\n",
      "Collecting image 29\n"
     ]
    }
   ],
   "source": [
    "for label in labels:\n",
    "    cap = cv2.VideoCapture(1)\n",
    "    print('Collecting images for {}'.format(label))\n",
    "    time.sleep(5)\n",
    "    for imgnum in range(number_imgs):\n",
    "        print('Collecting image {}'.format(imgnum))\n",
    "        ret, frame = cap.read()\n",
    "        imgname = os.path.join(IMAGES_PATH,label,label+'.'+'{}.jpg'.format(str(uuid.uuid1())))\n",
    "        cv2.imwrite(imgname, frame)\n",
    "        cv2.imshow('frame', frame)\n",
    "        time.sleep(2)\n",
    "\n",
    "        if cv2.waitKey(1) & 0xFF == ord('q'):\n",
    "            break\n",
    "cap.release()\n",
    "cv2.destroyAllWindows()"
   ]
  },
  {
   "cell_type": "markdown",
   "metadata": {},
   "source": [
    "# 5. Image Labelling"
   ]
  },
  {
   "cell_type": "code",
   "execution_count": 6,
   "metadata": {},
   "outputs": [
    {
     "name": "stdout",
     "output_type": "stream",
     "text": [
      "Collecting pyqt5\n",
      "  Downloading PyQt5-5.15.7-cp37-abi3-win_amd64.whl (6.8 MB)\n",
      "     ---------------------------------------- 6.8/6.8 MB 4.1 MB/s eta 0:00:00\n",
      "Requirement already satisfied: lxml in d:\\tfod - rock paper scissors\\tfodcourse\\tfod\\lib\\site-packages (4.9.1)\n",
      "Collecting PyQt5-Qt5>=5.15.0\n",
      "  Downloading PyQt5_Qt5-5.15.2-py3-none-win_amd64.whl (50.1 MB)\n",
      "     ---------------------------------------- 50.1/50.1 MB 5.2 MB/s eta 0:00:00\n",
      "Collecting PyQt5-sip<13,>=12.11\n",
      "  Downloading PyQt5_sip-12.11.0-cp310-cp310-win_amd64.whl (78 kB)\n",
      "     ---------------------------------------- 78.3/78.3 kB 4.3 MB/s eta 0:00:00\n",
      "Installing collected packages: PyQt5-Qt5, PyQt5-sip, pyqt5\n",
      "Successfully installed PyQt5-Qt5-5.15.2 PyQt5-sip-12.11.0 pyqt5-5.15.7\n"
     ]
    },
    {
     "name": "stderr",
     "output_type": "stream",
     "text": [
      "WARNING: Ignoring invalid distribution -pencv-python-headless (d:\\tfod - rock paper scissors\\tfodcourse\\tfod\\lib\\site-packages)\n",
      "WARNING: Ignoring invalid distribution -pencv-python-headless (d:\\tfod - rock paper scissors\\tfodcourse\\tfod\\lib\\site-packages)\n",
      "WARNING: Ignoring invalid distribution -pencv-python-headless (d:\\tfod - rock paper scissors\\tfodcourse\\tfod\\lib\\site-packages)\n",
      "WARNING: Ignoring invalid distribution -pencv-python-headless (d:\\tfod - rock paper scissors\\tfodcourse\\tfod\\lib\\site-packages)\n",
      "WARNING: Ignoring invalid distribution -pencv-python-headless (d:\\tfod - rock paper scissors\\tfodcourse\\tfod\\lib\\site-packages)\n",
      "WARNING: Ignoring invalid distribution -pencv-python-headless (d:\\tfod - rock paper scissors\\tfodcourse\\tfod\\lib\\site-packages)\n",
      "WARNING: Ignoring invalid distribution -pencv-python-headless (d:\\tfod - rock paper scissors\\tfodcourse\\tfod\\lib\\site-packages)\n",
      "WARNING: Ignoring invalid distribution -pencv-python-headless (d:\\tfod - rock paper scissors\\tfodcourse\\tfod\\lib\\site-packages)\n",
      "WARNING: Ignoring invalid distribution -pencv-python-headless (d:\\tfod - rock paper scissors\\tfodcourse\\tfod\\lib\\site-packages)\n"
     ]
    }
   ],
   "source": [
    "!pip install --upgrade pyqt5 lxml"
   ]
  },
  {
   "cell_type": "code",
   "execution_count": 7,
   "metadata": {},
   "outputs": [],
   "source": [
    "LABELIMG_PATH = os.path.join('Tensorflow', 'labelimg')"
   ]
  },
  {
   "cell_type": "code",
   "execution_count": 8,
   "metadata": {},
   "outputs": [
    {
     "name": "stderr",
     "output_type": "stream",
     "text": [
      "Cloning into 'Tensorflow\\labelimg'...\n"
     ]
    }
   ],
   "source": [
    "if not os.path.exists(LABELIMG_PATH):\n",
    "    !mkdir {LABELIMG_PATH}\n",
    "    !git clone https://github.com/tzutalin/labelImg {LABELIMG_PATH}"
   ]
  },
  {
   "cell_type": "code",
   "execution_count": 9,
   "metadata": {},
   "outputs": [],
   "source": [
    "if os.name == 'posix':\n",
    "    !make qt5py3\n",
    "if os.name =='nt':\n",
    "    !cd {LABELIMG_PATH} && pyrcc5 -o libs/resources.py resources.qrc"
   ]
  },
  {
   "cell_type": "code",
   "execution_count": 11,
   "metadata": {},
   "outputs": [
    {
     "name": "stdout",
     "output_type": "stream",
     "text": [
      "Image:D:\\TFOD - rock paper scissors\\TFODCourse\\Tensorflow\\workspace\\images\\collectedimages\\scissors\\scissors.01b126d6-0ff0-11ed-aeef-5cbaef51614e.jpg -> Annotation:D:/TFOD - rock paper scissors/TFODCourse/Tensorflow/workspace/images/collectedimages/scissors\\scissors.01b126d6-0ff0-11ed-aeef-5cbaef51614e.xml\n",
      "Image:D:\\TFOD - rock paper scissors\\TFODCourse\\Tensorflow\\workspace\\images\\collectedimages\\scissors\\scissors.02f5d6be-0ff0-11ed-93b0-5cbaef51614e.jpg -> Annotation:D:/TFOD - rock paper scissors/TFODCourse/Tensorflow/workspace/images/collectedimages/scissors\\scissors.02f5d6be-0ff0-11ed-93b0-5cbaef51614e.xml\n",
      "Image:D:\\TFOD - rock paper scissors\\TFODCourse\\Tensorflow\\workspace\\images\\collectedimages\\scissors\\scissors.3ad45c03-0ff1-11ed-b037-5cbaef51614e.jpg -> Annotation:D:/TFOD - rock paper scissors/TFODCourse/Tensorflow/workspace/images/collectedimages/scissors\\scissors.3ad45c03-0ff1-11ed-b037-5cbaef51614e.xml\n",
      "Image:D:\\TFOD - rock paper scissors\\TFODCourse\\Tensorflow\\workspace\\images\\collectedimages\\scissors\\scissors.3c0c53a0-0ff1-11ed-92f1-5cbaef51614e.jpg -> Annotation:D:/TFOD - rock paper scissors/TFODCourse/Tensorflow/workspace/images/collectedimages/scissors\\scissors.3c0c53a0-0ff1-11ed-92f1-5cbaef51614e.xml\n",
      "Image:D:\\TFOD - rock paper scissors\\TFODCourse\\Tensorflow\\workspace\\images\\collectedimages\\scissors\\scissors.3d5028ab-0ff1-11ed-aa44-5cbaef51614e.jpg -> Annotation:D:/TFOD - rock paper scissors/TFODCourse/Tensorflow/workspace/images/collectedimages/scissors\\scissors.3d5028ab-0ff1-11ed-aa44-5cbaef51614e.xml\n",
      "Image:D:\\TFOD - rock paper scissors\\TFODCourse\\Tensorflow\\workspace\\images\\collectedimages\\scissors\\scissors.3e897ac9-0ff1-11ed-ad2c-5cbaef51614e.jpg -> Annotation:D:/TFOD - rock paper scissors/TFODCourse/Tensorflow/workspace/images/collectedimages/scissors\\scissors.3e897ac9-0ff1-11ed-ad2c-5cbaef51614e.xml\n",
      "Image:D:\\TFOD - rock paper scissors\\TFODCourse\\Tensorflow\\workspace\\images\\collectedimages\\scissors\\scissors.3fbf35d6-0ff1-11ed-8628-5cbaef51614e.jpg -> Annotation:D:/TFOD - rock paper scissors/TFODCourse/Tensorflow/workspace/images/collectedimages/scissors\\scissors.3fbf35d6-0ff1-11ed-8628-5cbaef51614e.xml\n",
      "Image:D:\\TFOD - rock paper scissors\\TFODCourse\\Tensorflow\\workspace\\images\\collectedimages\\scissors\\scissors.4aa2cba1-0ff1-11ed-8b94-5cbaef51614e.jpg -> Annotation:D:/TFOD - rock paper scissors/TFODCourse/Tensorflow/workspace/images/collectedimages/scissors\\scissors.4aa2cba1-0ff1-11ed-8b94-5cbaef51614e.xml\n",
      "Image:D:\\TFOD - rock paper scissors\\TFODCourse\\Tensorflow\\workspace\\images\\collectedimages\\scissors\\scissors.4bd541fd-0ff1-11ed-83ef-5cbaef51614e.jpg -> Annotation:D:/TFOD - rock paper scissors/TFODCourse/Tensorflow/workspace/images/collectedimages/scissors\\scissors.4bd541fd-0ff1-11ed-83ef-5cbaef51614e.xml\n",
      "Image:D:\\TFOD - rock paper scissors\\TFODCourse\\Tensorflow\\workspace\\images\\collectedimages\\scissors\\scissors.4d07a470-0ff1-11ed-9955-5cbaef51614e.jpg -> Annotation:D:/TFOD - rock paper scissors/TFODCourse/Tensorflow/workspace/images/collectedimages/scissors\\scissors.4d07a470-0ff1-11ed-9955-5cbaef51614e.xml\n",
      "Image:D:\\TFOD - rock paper scissors\\TFODCourse\\Tensorflow\\workspace\\images\\collectedimages\\scissors\\scissors.4e3bde2e-0ff1-11ed-8cac-5cbaef51614e.jpg -> Annotation:D:/TFOD - rock paper scissors/TFODCourse/Tensorflow/workspace/images/collectedimages/scissors\\scissors.4e3bde2e-0ff1-11ed-8cac-5cbaef51614e.xml\n"
     ]
    }
   ],
   "source": [
    "!cd {LABELIMG_PATH} && python labelImg.py"
   ]
  },
  {
   "cell_type": "markdown",
   "metadata": {},
   "source": [
    "# 6. Move them into a Training and Testing Partition"
   ]
  },
  {
   "cell_type": "markdown",
   "metadata": {},
   "source": [
    "# OPTIONAL - 7. Compress them for Colab Training"
   ]
  },
  {
   "cell_type": "code",
   "execution_count": null,
   "metadata": {},
   "outputs": [],
   "source": [
    "TRAIN_PATH = os.path.join('Tensorflow', 'workspace', 'images', 'train')\n",
    "TEST_PATH = os.path.join('Tensorflow', 'workspace', 'images', 'test')\n",
    "ARCHIVE_PATH = os.path.join('Tensorflow', 'workspace', 'images', 'archive.tar.gz')"
   ]
  },
  {
   "cell_type": "code",
   "execution_count": null,
   "metadata": {},
   "outputs": [],
   "source": [
    "!tar -czf {ARCHIVE_PATH} {TRAIN_PATH} {TEST_PATH}"
   ]
  },
  {
   "cell_type": "code",
   "execution_count": null,
   "metadata": {},
   "outputs": [],
   "source": []
  }
 ],
 "metadata": {
  "kernelspec": {
   "display_name": "tfod",
   "language": "python",
   "name": "tfod"
  },
  "language_info": {
   "codemirror_mode": {
    "name": "ipython",
    "version": 3
   },
   "file_extension": ".py",
   "mimetype": "text/x-python",
   "name": "python",
   "nbconvert_exporter": "python",
   "pygments_lexer": "ipython3",
   "version": "3.10.5"
  }
 },
 "nbformat": 4,
 "nbformat_minor": 2
}
